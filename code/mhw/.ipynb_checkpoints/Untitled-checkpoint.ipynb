{
 "cells": [
  {
   "cell_type": "code",
   "execution_count": 3,
   "id": "21ee1dd5-5502-4235-8b5f-6c2c624f2451",
   "metadata": {},
   "outputs": [],
   "source": [
    "from pycopula.copula import ArchimedeanCopula\n",
    "import pandas as pd"
   ]
  },
  {
   "cell_type": "code",
   "execution_count": 4,
   "id": "2f413074-cd46-4f68-ab22-c11ef95d4ef7",
   "metadata": {},
   "outputs": [],
   "source": [
    "mhws = pd.read_table('../../data/mhw/mhws_NW_Atl.csv', sep = ',')"
   ]
  },
  {
   "cell_type": "code",
   "execution_count": 5,
   "id": "59da35ea-9fa4-4a60-a3eb-9d53e4aeffb2",
   "metadata": {},
   "outputs": [],
   "source": [
    "df = pd.DataFrame({'duration': mhws[pd.to_datetime(mhws.date_start) < '2017-01-01'].duration,'intensity_': mhws[pd.to_datetime(mhws.date_start) < '2017-01-01'].intensity_max})"
   ]
  },
  {
   "cell_type": "code",
   "execution_count": null,
   "id": "dd316c99-a0d5-4379-880b-c6f67290cfe1",
   "metadata": {},
   "outputs": [],
   "source": [
    "clayton = ArchimedeanCopula(family=\"clayton\", dim=2)\n",
    "boundAlpha = [0, None] # Greater than 0\n",
    "boundLambda = [0, None]\n",
    "bounds = [ boundAlpha, boundLambda ]\n",
    "paramX1 = { 'a': None, 'scale': 1.2 } # Hyper-parameters of Gamma\n",
    "paramX2 = { 'scale': None } # Hyper-parameters of Exp\n",
    "hyperParams = [ paramX1, paramX2 ] # The hyper-parameters\n",
    "gamma = scipy.stats.gamma # The Gamma distribution\n",
    "expon = scipy.stats.expon # The Exponential distribution\n",
    "# Fitting copula with MLE method and Gamma/Exp marginals distributions\n",
    "clayton.fit(data, method='mle', marginals=[gamma, exp], hyper_param=hyperParams, hyper_param_bounds=bounds)"
   ]
  }
 ],
 "metadata": {
  "kernelspec": {
   "display_name": "Python 3 (ipykernel)",
   "language": "python",
   "name": "python3"
  },
  "language_info": {
   "codemirror_mode": {
    "name": "ipython",
    "version": 3
   },
   "file_extension": ".py",
   "mimetype": "text/x-python",
   "name": "python",
   "nbconvert_exporter": "python",
   "pygments_lexer": "ipython3",
   "version": "3.10.0"
  }
 },
 "nbformat": 4,
 "nbformat_minor": 5
}
