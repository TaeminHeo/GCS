{
 "cells": [
  {
   "cell_type": "code",
   "execution_count": 1,
   "id": "21ee1dd5-5502-4235-8b5f-6c2c624f2451",
   "metadata": {},
   "outputs": [],
   "source": [
    "import pandas as pd\n",
    "import numpy as np\n",
    "from scipy import stats as st\n",
    "import matplotlib.pyplot as plt\n",
    "import matlab.engine\n",
    "eng = matlab.engine.start_matlab()\n",
    "\n",
    "#greedy copula segmentation\n",
    "def GCS(x,copula_family,lbd):\n",
    "    K = 1\n",
    "    seg = []\n",
    "    seg.append(x)\n",
    "    while K > 0:\n",
    "        print(K)\n",
    "        LL_all = np.zeros((K,len(x)))\n",
    "        for j in range(K):\n",
    "            n = len(seg[j])\n",
    "            LL_segorig = LL(seg[j],copula_family,lbd)\n",
    "            for k in range(2,n-3):\n",
    "                #print(k,end='\\r')\n",
    "                LL_all[j,k] = LL(seg[j][:k,:],copula_family,lbd) + LL(seg[j][k:,:],copula_family,lbd) - LL_segorig\n",
    "            if K == 1:\n",
    "                LL_all_1 = LL_all\n",
    "            elif K == 2:\n",
    "                LL_all_2 = LL_all\n",
    "\n",
    "        if np.max(LL_all) > 0:\n",
    "            j_star, k_star = np.where(LL_all == np.max(LL_all))\n",
    "            if j_star.item() == (K-1):\n",
    "                seg.append(seg[K-1][k_star.item()+1:,:])\n",
    "                seg[K-1] = seg[K-1][:k_star.item()+1,:]\n",
    "                K = K + 1\n",
    "            else:\n",
    "                K = -1\n",
    "        else:\n",
    "            K = -1\n",
    "    return seg, LL_all_1\n",
    "\n",
    "def LL(x,copula_family,lbd):\n",
    "    #marginal distribution fitting\n",
    "    pd1 = st.gamma.fit(x[:,0])\n",
    "    dist1 = st.gamma(a=pd1[0],loc=pd1[1],scale=pd1[2])\n",
    "    cdf1 = dist1.cdf(x[:,0])\n",
    "    var1 = np.var(x[:,0])\n",
    "\n",
    "    pd2 = st.lognorm.fit(x[:,1])\n",
    "    dist2 = st.lognorm(s=pd2[0],loc=pd2[1],scale=pd2[2])\n",
    "    cdf2 = dist2.cdf(x[:,1])\n",
    "    var2 = np.var(x[:,1])\n",
    "\n",
    "    #copula fitting\n",
    "    cdfs = eng.transpose(matlab.double([cdf1,cdf2]))\n",
    "    copula_paramhat = eng.copulafit(copula_family, cdfs)\n",
    "\n",
    "    #loglikelihood\n",
    "    loglikelihood = eng.sum(eng.log(eng.copulapdf(copula_family,cdfs,copula_paramhat))) - lbd / (var1 + var2)\n",
    "\n",
    "    return loglikelihood"
   ]
  },
  {
   "cell_type": "code",
   "execution_count": 2,
   "id": "0e30a6f0-877d-4c7e-8319-327386ac7782",
   "metadata": {},
   "outputs": [],
   "source": [
    "df = pd.read_table('../../data/mhw/mhws80_NW_Atl_all.csv', sep = ',')"
   ]
  },
  {
   "cell_type": "code",
   "execution_count": 3,
   "id": "1c047ced-2996-4a2f-86eb-4212378d9440",
   "metadata": {},
   "outputs": [
    {
     "data": {
      "text/html": [
       "<div>\n",
       "<style scoped>\n",
       "    .dataframe tbody tr th:only-of-type {\n",
       "        vertical-align: middle;\n",
       "    }\n",
       "\n",
       "    .dataframe tbody tr th {\n",
       "        vertical-align: top;\n",
       "    }\n",
       "\n",
       "    .dataframe thead th {\n",
       "        text-align: right;\n",
       "    }\n",
       "</style>\n",
       "<table border=\"1\" class=\"dataframe\">\n",
       "  <thead>\n",
       "    <tr style=\"text-align: right;\">\n",
       "      <th></th>\n",
       "      <th>duration</th>\n",
       "      <th>intensity_</th>\n",
       "    </tr>\n",
       "  </thead>\n",
       "  <tbody>\n",
       "    <tr>\n",
       "      <th>0</th>\n",
       "      <td>30</td>\n",
       "      <td>1.687531</td>\n",
       "    </tr>\n",
       "    <tr>\n",
       "      <th>1</th>\n",
       "      <td>6</td>\n",
       "      <td>3.087795</td>\n",
       "    </tr>\n",
       "    <tr>\n",
       "      <th>2</th>\n",
       "      <td>14</td>\n",
       "      <td>1.414321</td>\n",
       "    </tr>\n",
       "    <tr>\n",
       "      <th>3</th>\n",
       "      <td>15</td>\n",
       "      <td>1.322329</td>\n",
       "    </tr>\n",
       "    <tr>\n",
       "      <th>4</th>\n",
       "      <td>15</td>\n",
       "      <td>2.630743</td>\n",
       "    </tr>\n",
       "    <tr>\n",
       "      <th>...</th>\n",
       "      <td>...</td>\n",
       "      <td>...</td>\n",
       "    </tr>\n",
       "    <tr>\n",
       "      <th>117</th>\n",
       "      <td>13</td>\n",
       "      <td>1.668652</td>\n",
       "    </tr>\n",
       "    <tr>\n",
       "      <th>118</th>\n",
       "      <td>12</td>\n",
       "      <td>5.014431</td>\n",
       "    </tr>\n",
       "    <tr>\n",
       "      <th>119</th>\n",
       "      <td>47</td>\n",
       "      <td>4.300739</td>\n",
       "    </tr>\n",
       "    <tr>\n",
       "      <th>120</th>\n",
       "      <td>11</td>\n",
       "      <td>2.536510</td>\n",
       "    </tr>\n",
       "    <tr>\n",
       "      <th>121</th>\n",
       "      <td>56</td>\n",
       "      <td>2.211566</td>\n",
       "    </tr>\n",
       "  </tbody>\n",
       "</table>\n",
       "<p>122 rows × 2 columns</p>\n",
       "</div>"
      ],
      "text/plain": [
       "     duration  intensity_\n",
       "0          30    1.687531\n",
       "1           6    3.087795\n",
       "2          14    1.414321\n",
       "3          15    1.322329\n",
       "4          15    2.630743\n",
       "..        ...         ...\n",
       "117        13    1.668652\n",
       "118        12    5.014431\n",
       "119        47    4.300739\n",
       "120        11    2.536510\n",
       "121        56    2.211566\n",
       "\n",
       "[122 rows x 2 columns]"
      ]
     },
     "execution_count": 3,
     "metadata": {},
     "output_type": "execute_result"
    }
   ],
   "source": [
    "df"
   ]
  },
  {
   "cell_type": "code",
   "execution_count": 4,
   "id": "d4226169-a352-4eb5-8dda-c6d9c9b548fb",
   "metadata": {},
   "outputs": [],
   "source": [
    "x = np.array(df)\n",
    "copula_family = 'Clayton'\n",
    "lbd = 0"
   ]
  },
  {
   "cell_type": "code",
   "execution_count": 17,
   "id": "278fd0f7-e459-4893-b4c0-3f0f57e83ece",
   "metadata": {},
   "outputs": [
    {
     "data": {
      "text/plain": [
       "-479.0062861274916"
      ]
     },
     "execution_count": 17,
     "metadata": {},
     "output_type": "execute_result"
    }
   ],
   "source": [
    "pd1 = st.gamma.fit(x[:,0],floc=0)\n",
    "dist1 = st.gamma(a=pd1[0],loc=pd1[1],scale=pd1[2])\n",
    "np.sum(dist1.logpdf(x[:,0]))"
   ]
  },
  {
   "cell_type": "code",
   "execution_count": 22,
   "id": "35387e1c-5d85-48dd-af7b-3b43216c41bf",
   "metadata": {},
   "outputs": [
    {
     "data": {
      "text/plain": [
       "-611.2887550926407"
      ]
     },
     "execution_count": 22,
     "metadata": {},
     "output_type": "execute_result"
    }
   ],
   "source": [
    "pd1 = st.gamma.fit(x[:,0])\n",
    "dist1 = st.gamma(a=pd1[0],loc=pd1[1],scale=pd1[2])\n",
    "np.sum(dist1.logpdf(x[:,0]))"
   ]
  },
  {
   "cell_type": "code",
   "execution_count": 23,
   "id": "21557e75-d3dd-44e2-bf42-961912f85802",
   "metadata": {},
   "outputs": [
    {
     "data": {
      "text/plain": [
       "(0.49094925051348326, 4.999999999999999, 2.0805003154269803)"
      ]
     },
     "execution_count": 23,
     "metadata": {},
     "output_type": "execute_result"
    }
   ],
   "source": [
    "pd1"
   ]
  },
  {
   "cell_type": "code",
   "execution_count": 14,
   "id": "db80a4af-52d9-4a48-9e94-ff6bceb295f8",
   "metadata": {},
   "outputs": [
    {
     "data": {
      "text/plain": [
       "0.0034876712113270114"
      ]
     },
     "execution_count": 14,
     "metadata": {},
     "output_type": "execute_result"
    }
   ],
   "source": [
    "dist1 = st.gamma(a=0.2075,loc=5,scale=26.5346)\n",
    "dist1.pdf(x[0,0])"
   ]
  },
  {
   "cell_type": "code",
   "execution_count": 6,
   "id": "43f34481-4d7c-4c9f-95bb-9ee457ca92e1",
   "metadata": {},
   "outputs": [
    {
     "data": {
      "text/plain": [
       "array([9.99999091e-01, 6.79115555e-01, 9.96838174e-01, 9.98132011e-01,\n",
       "       9.98132011e-01, 9.99859030e-01, 9.99999796e-01, 3.21258808e-08,\n",
       "       9.98132011e-01, 9.12737697e-01, 3.21258808e-08, 9.94623230e-01,\n",
       "       8.38096643e-01, 9.96838174e-01, 9.98132011e-01, 8.38096643e-01,\n",
       "       6.79115555e-01, 8.38096643e-01, 6.79115555e-01, 3.21258808e-08,\n",
       "       3.21258808e-08, 3.21258808e-08, 9.12737697e-01, 3.21258808e-08,\n",
       "       9.72443973e-01, 3.21258808e-08, 3.21258808e-08, 3.21258808e-08,\n",
       "       9.99999925e-01, 9.99764785e-01, 9.12737697e-01, 9.99999954e-01,\n",
       "       3.21258808e-08, 8.38096643e-01, 9.94623230e-01, 9.51436595e-01,\n",
       "       9.99995917e-01, 9.99340832e-01, 9.99995917e-01, 3.21258808e-08,\n",
       "       9.99915358e-01, 3.21258808e-08, 9.12737697e-01, 3.21258808e-08,\n",
       "       8.38096643e-01, 9.98132011e-01, 3.21258808e-08, 3.21258808e-08,\n",
       "       3.21258808e-08, 9.51436595e-01, 9.98132011e-01, 9.12737697e-01,\n",
       "       8.38096643e-01, 3.21258808e-08, 3.21258808e-08, 9.84157148e-01,\n",
       "       8.38096643e-01, 9.12737697e-01, 9.51436595e-01, 6.79115555e-01,\n",
       "       6.79115555e-01, 6.79115555e-01, 9.51436595e-01, 9.99915358e-01,\n",
       "       9.90804030e-01, 6.79115555e-01, 3.21258808e-08, 6.79115555e-01,\n",
       "       3.21258808e-08, 9.98132011e-01, 3.21258808e-08, 1.00000000e+00,\n",
       "       1.00000000e+00, 1.00000000e+00, 1.00000000e+00, 9.90804030e-01,\n",
       "       9.99993252e-01, 9.98132011e-01, 9.99915358e-01, 9.12737697e-01,\n",
       "       3.21258808e-08, 9.84157148e-01, 9.99949096e-01, 9.99340832e-01,\n",
       "       6.79115555e-01, 3.21258808e-08, 8.38096643e-01, 6.79115555e-01,\n",
       "       1.00000000e+00, 9.99340832e-01, 9.99999999e-01, 1.00000000e+00,\n",
       "       9.96838174e-01, 9.99993252e-01, 9.99997528e-01, 1.00000000e+00,\n",
       "       9.84157148e-01, 3.21258808e-08, 9.99999990e-01, 9.99606711e-01,\n",
       "       9.84157148e-01, 9.99981510e-01, 9.99997528e-01, 9.84157148e-01,\n",
       "       9.51436595e-01, 6.79115555e-01, 6.79115555e-01, 1.00000000e+00,\n",
       "       1.00000000e+00, 9.99981510e-01, 1.00000000e+00, 9.84157148e-01,\n",
       "       6.79115555e-01, 6.79115555e-01, 8.38096643e-01, 9.99981510e-01,\n",
       "       8.38096643e-01, 9.94623230e-01, 9.90804030e-01, 1.00000000e+00,\n",
       "       9.84157148e-01, 1.00000000e+00])"
      ]
     },
     "execution_count": 6,
     "metadata": {},
     "output_type": "execute_result"
    }
   ],
   "source": [
    "pd1 = st.gamma.fit(x[:,0])\n",
    "dist1 = st.gamma(a=pd1[0],loc=pd1[1],scale=pd1[2])\n",
    "cdf1 = dist1.cdf(x[:,0])\n",
    "var1 = np.var(x[:,0])\n",
    "cdf1"
   ]
  },
  {
   "cell_type": "code",
   "execution_count": 5,
   "id": "d3e86ea0-7dec-49d4-aca0-7e1ba3077d57",
   "metadata": {},
   "outputs": [
    {
     "name": "stdout",
     "output_type": "stream",
     "text": [
      "1\n"
     ]
    },
    {
     "ename": "MatlabExecutionError",
     "evalue": "\n  File C:\\Program Files\\MATLAB\\R2022b\\toolbox\\stats\\stats\\copulafit.m, line 75, in copulafit\nU must contain values strictly between 0 and 1.\n",
     "output_type": "error",
     "traceback": [
      "\u001b[1;31m---------------------------------------------------------------------------\u001b[0m",
      "\u001b[1;31mMatlabExecutionError\u001b[0m                      Traceback (most recent call last)",
      "File \u001b[1;32m<timed exec>:1\u001b[0m\n",
      "Cell \u001b[1;32mIn [1], line 18\u001b[0m, in \u001b[0;36mGCS\u001b[1;34m(x, copula_family, lbd)\u001b[0m\n\u001b[0;32m     16\u001b[0m \u001b[38;5;28;01mfor\u001b[39;00m j \u001b[38;5;129;01min\u001b[39;00m \u001b[38;5;28mrange\u001b[39m(K):\n\u001b[0;32m     17\u001b[0m     n \u001b[38;5;241m=\u001b[39m \u001b[38;5;28mlen\u001b[39m(seg[j])\n\u001b[1;32m---> 18\u001b[0m     LL_segorig \u001b[38;5;241m=\u001b[39m \u001b[43mLL\u001b[49m\u001b[43m(\u001b[49m\u001b[43mseg\u001b[49m\u001b[43m[\u001b[49m\u001b[43mj\u001b[49m\u001b[43m]\u001b[49m\u001b[43m,\u001b[49m\u001b[43mcopula_family\u001b[49m\u001b[43m,\u001b[49m\u001b[43mlbd\u001b[49m\u001b[43m)\u001b[49m\n\u001b[0;32m     19\u001b[0m     \u001b[38;5;28;01mfor\u001b[39;00m k \u001b[38;5;129;01min\u001b[39;00m \u001b[38;5;28mrange\u001b[39m(\u001b[38;5;241m2\u001b[39m,n\u001b[38;5;241m-\u001b[39m\u001b[38;5;241m3\u001b[39m):\n\u001b[0;32m     20\u001b[0m         \u001b[38;5;66;03m#print(k,end='\\r')\u001b[39;00m\n\u001b[0;32m     21\u001b[0m         LL_all[j,k] \u001b[38;5;241m=\u001b[39m LL(seg[j][:k,:],copula_family,lbd) \u001b[38;5;241m+\u001b[39m LL(seg[j][k:,:],copula_family,lbd) \u001b[38;5;241m-\u001b[39m LL_segorig\n",
      "Cell \u001b[1;32mIn [1], line 53\u001b[0m, in \u001b[0;36mLL\u001b[1;34m(x, copula_family, lbd)\u001b[0m\n\u001b[0;32m     51\u001b[0m \u001b[38;5;66;03m#copula fitting\u001b[39;00m\n\u001b[0;32m     52\u001b[0m cdfs \u001b[38;5;241m=\u001b[39m eng\u001b[38;5;241m.\u001b[39mtranspose(matlab\u001b[38;5;241m.\u001b[39mdouble([cdf1,cdf2]))\n\u001b[1;32m---> 53\u001b[0m copula_paramhat \u001b[38;5;241m=\u001b[39m \u001b[43meng\u001b[49m\u001b[38;5;241;43m.\u001b[39;49m\u001b[43mcopulafit\u001b[49m\u001b[43m(\u001b[49m\u001b[43mcopula_family\u001b[49m\u001b[43m,\u001b[49m\u001b[43m \u001b[49m\u001b[43mcdfs\u001b[49m\u001b[43m)\u001b[49m\n\u001b[0;32m     55\u001b[0m \u001b[38;5;66;03m#loglikelihood\u001b[39;00m\n\u001b[0;32m     56\u001b[0m loglikelihood \u001b[38;5;241m=\u001b[39m eng\u001b[38;5;241m.\u001b[39msum(eng\u001b[38;5;241m.\u001b[39mlog(eng\u001b[38;5;241m.\u001b[39mcopulapdf(copula_family,cdfs,copula_paramhat))) \u001b[38;5;241m-\u001b[39m lbd \u001b[38;5;241m/\u001b[39m (var1 \u001b[38;5;241m+\u001b[39m var2)\n",
      "File \u001b[1;32mD:\\matlab\\lib\\site-packages\\matlab\\engine\\matlabengine.py:71\u001b[0m, in \u001b[0;36mMatlabFunc.__call__\u001b[1;34m(self, *args, **kwargs)\u001b[0m\n\u001b[0;32m     68\u001b[0m     \u001b[38;5;28;01mreturn\u001b[39;00m FutureResult(\u001b[38;5;28mself\u001b[39m\u001b[38;5;241m.\u001b[39m_engine(), future, nargs, _stdout, _stderr, feval\u001b[38;5;241m=\u001b[39m\u001b[38;5;28;01mTrue\u001b[39;00m)\n\u001b[0;32m     69\u001b[0m \u001b[38;5;28;01melse\u001b[39;00m:\n\u001b[0;32m     70\u001b[0m     \u001b[38;5;28;01mreturn\u001b[39;00m \u001b[43mFutureResult\u001b[49m\u001b[43m(\u001b[49m\u001b[38;5;28;43mself\u001b[39;49m\u001b[38;5;241;43m.\u001b[39;49m\u001b[43m_engine\u001b[49m\u001b[43m(\u001b[49m\u001b[43m)\u001b[49m\u001b[43m,\u001b[49m\u001b[43m \u001b[49m\u001b[43mfuture\u001b[49m\u001b[43m,\u001b[49m\u001b[43m \u001b[49m\u001b[43mnargs\u001b[49m\u001b[43m,\u001b[49m\u001b[43m \u001b[49m\u001b[43m_stdout\u001b[49m\u001b[43m,\u001b[49m\n\u001b[1;32m---> 71\u001b[0m \u001b[43m                        \u001b[49m\u001b[43m_stderr\u001b[49m\u001b[43m,\u001b[49m\u001b[43m \u001b[49m\u001b[43mfeval\u001b[49m\u001b[38;5;241;43m=\u001b[39;49m\u001b[38;5;28;43;01mTrue\u001b[39;49;00m\u001b[43m)\u001b[49m\u001b[38;5;241;43m.\u001b[39;49m\u001b[43mresult\u001b[49m\u001b[43m(\u001b[49m\u001b[43m)\u001b[49m\n",
      "File \u001b[1;32mD:\\matlab\\lib\\site-packages\\matlab\\engine\\futureresult.py:67\u001b[0m, in \u001b[0;36mFutureResult.result\u001b[1;34m(self, timeout)\u001b[0m\n\u001b[0;32m     64\u001b[0m     \u001b[38;5;28;01mif\u001b[39;00m timeout \u001b[38;5;241m<\u001b[39m \u001b[38;5;241m0\u001b[39m:\n\u001b[0;32m     65\u001b[0m         \u001b[38;5;28;01mraise\u001b[39;00m \u001b[38;5;167;01mTypeError\u001b[39;00m(pythonengine\u001b[38;5;241m.\u001b[39mgetMessage(\u001b[38;5;124m'\u001b[39m\u001b[38;5;124mTimeoutCannotBeNegative\u001b[39m\u001b[38;5;124m'\u001b[39m))\n\u001b[1;32m---> 67\u001b[0m \u001b[38;5;28;01mreturn\u001b[39;00m \u001b[38;5;28;43mself\u001b[39;49m\u001b[38;5;241;43m.\u001b[39;49m\u001b[43m__future\u001b[49m\u001b[38;5;241;43m.\u001b[39;49m\u001b[43mresult\u001b[49m\u001b[43m(\u001b[49m\u001b[43mtimeout\u001b[49m\u001b[43m)\u001b[49m\n",
      "File \u001b[1;32mD:\\matlab\\lib\\site-packages\\matlab\\engine\\fevalfuture.py:82\u001b[0m, in \u001b[0;36mFevalFuture.result\u001b[1;34m(self, timeout)\u001b[0m\n\u001b[0;32m     79\u001b[0m \u001b[38;5;28;01mif\u001b[39;00m \u001b[38;5;129;01mnot\u001b[39;00m result_ready:\n\u001b[0;32m     80\u001b[0m     \u001b[38;5;28;01mraise\u001b[39;00m \u001b[38;5;167;01mTimeoutError\u001b[39;00m(pythonengine\u001b[38;5;241m.\u001b[39mgetMessage(\u001b[38;5;124m'\u001b[39m\u001b[38;5;124mMatlabFunctionTimeout\u001b[39m\u001b[38;5;124m'\u001b[39m))\n\u001b[1;32m---> 82\u001b[0m \u001b[38;5;28mself\u001b[39m\u001b[38;5;241m.\u001b[39m_result \u001b[38;5;241m=\u001b[39m \u001b[43mpythonengine\u001b[49m\u001b[38;5;241;43m.\u001b[39;49m\u001b[43mgetFEvalResult\u001b[49m\u001b[43m(\u001b[49m\u001b[38;5;28;43mself\u001b[39;49m\u001b[38;5;241;43m.\u001b[39;49m\u001b[43m_future\u001b[49m\u001b[43m,\u001b[49m\u001b[38;5;28;43mself\u001b[39;49m\u001b[38;5;241;43m.\u001b[39;49m\u001b[43m_nargout\u001b[49m\u001b[43m,\u001b[49m\u001b[43m \u001b[49m\u001b[38;5;28;43;01mNone\u001b[39;49;00m\u001b[43m,\u001b[49m\u001b[43m \u001b[49m\u001b[43mout\u001b[49m\u001b[38;5;241;43m=\u001b[39;49m\u001b[38;5;28;43mself\u001b[39;49m\u001b[38;5;241;43m.\u001b[39;49m\u001b[43m_out\u001b[49m\u001b[43m,\u001b[49m\u001b[43m \u001b[49m\u001b[43merr\u001b[49m\u001b[38;5;241;43m=\u001b[39;49m\u001b[38;5;28;43mself\u001b[39;49m\u001b[38;5;241;43m.\u001b[39;49m\u001b[43m_err\u001b[49m\u001b[43m)\u001b[49m\n\u001b[0;32m     83\u001b[0m \u001b[38;5;28mself\u001b[39m\u001b[38;5;241m.\u001b[39m_retrieved \u001b[38;5;241m=\u001b[39m \u001b[38;5;28;01mTrue\u001b[39;00m\n\u001b[0;32m     84\u001b[0m \u001b[38;5;28;01mreturn\u001b[39;00m \u001b[38;5;28mself\u001b[39m\u001b[38;5;241m.\u001b[39m_result\n",
      "\u001b[1;31mMatlabExecutionError\u001b[0m: \n  File C:\\Program Files\\MATLAB\\R2022b\\toolbox\\stats\\stats\\copulafit.m, line 75, in copulafit\nU must contain values strictly between 0 and 1.\n"
     ]
    }
   ],
   "source": [
    "%%time\n",
    "results = GCS(x,copula_family,lbd)"
   ]
  },
  {
   "cell_type": "code",
   "execution_count": 59,
   "id": "175ba685-7d62-4f3f-b894-325d3ca15d12",
   "metadata": {},
   "outputs": [
    {
     "data": {
      "text/plain": [
       "2"
      ]
     },
     "execution_count": 59,
     "metadata": {},
     "output_type": "execute_result"
    }
   ],
   "source": [
    "len(results[0])"
   ]
  },
  {
   "cell_type": "code",
   "execution_count": 63,
   "id": "86ce68fd-ba0a-4f11-8fce-571cdb61755d",
   "metadata": {},
   "outputs": [
    {
     "data": {
      "image/png": "[encoded data removed]",
      "text/plain": [
       "<Figure size 640x480 with 1 Axes>"
      ]
     },
     "metadata": {},
     "output_type": "display_data"
    }
   ],
   "source": [
    "fig, ax = plt.subplots(1,1)\n",
    "ax.plot(results[1].T,'.-')\n",
    "plt.show()"
   ]
  },
  {
   "cell_type": "code",
   "execution_count": 60,
   "id": "2b94c5db-9f12-41b5-b231-345246025dd8",
   "metadata": {},
   "outputs": [
    {
     "data": {
      "text/plain": [
       "1.5247686493610932"
      ]
     },
     "execution_count": 60,
     "metadata": {},
     "output_type": "execute_result"
    }
   ],
   "source": [
    "LL(x,copula_family,lbd)"
   ]
  },
  {
   "cell_type": "code",
   "execution_count": 78,
   "id": "13289d04-fb6c-4b5f-97af-5ce149020a2e",
   "metadata": {},
   "outputs": [
    {
     "name": "stdout",
     "output_type": "stream",
     "text": [
      "2.197368768003001\n",
      "0.9945744389922023\n",
      "0.401233391438819\n",
      "-0.8015609375719799\n",
      "10.4875 0.3048249910394438 0.0\n"
     ]
    }
   ],
   "source": [
    "lbd = 0\n",
    "print(LL(x,copula_family,lbd))\n",
    "print(LL(x[:20,:],copula_family,lbd))\n",
    "print(LL(x[20:,:],copula_family,lbd))\n",
    "print(LL(x[:20,:],copula_family,lbd) + LL(x[20:,:],copula_family,lbd) - LL(x,copula_family,lbd))\n",
    "print(np.var(x[:20,0]),np.var(x[:20,1]),lbd/(np.var(x[:20,0])+np.var(x[:20,1])))"
   ]
  },
  {
   "cell_type": "code",
   "execution_count": null,
   "id": "187cdd4b-78b3-4f5f-b5d6-c91cd0d71a74",
   "metadata": {},
   "outputs": [],
   "source": []
  },
  {
   "cell_type": "code",
   "execution_count": null,
   "id": "5af9d7c0-7b35-4b77-b166-0f1e28a6aff1",
   "metadata": {},
   "outputs": [],
   "source": []
  },
  {
   "cell_type": "code",
   "execution_count": null,
   "id": "eb40a403-f3cd-4b45-ada4-59e08e17480c",
   "metadata": {},
   "outputs": [],
   "source": []
  }
 ],
 "metadata": {
  "kernelspec": {
   "display_name": "Python 3 (ipykernel)",
   "language": "python",
   "name": "python3"
  },
  "language_info": {
   "codemirror_mode": {
    "name": "ipython",
    "version": 3
   },
   "file_extension": ".py",
   "mimetype": "text/x-python",
   "name": "python",
   "nbconvert_exporter": "python",
   "pygments_lexer": "ipython3",
   "version": "3.10.0"
  }
 },
 "nbformat": 4,
 "nbformat_minor": 5
}
