{
 "cells": [
  {
   "cell_type": "code",
   "execution_count": 4,
   "metadata": {},
   "outputs": [],
   "source": [
    "import pandas as pd\n",
    "import numpy as np\n",
    "import matplotlib.pyplot as plt\n",
    "from matplotlib.lines import Line2D\n",
    "from scipy.integrate import simps"
   ]
  },
  {
   "cell_type": "markdown",
   "metadata": {},
   "source": [
    "# Sequential Simulation"
   ]
  },
  {
   "cell_type": "code",
   "execution_count": 8,
   "metadata": {},
   "outputs": [],
   "source": [
    "df = pd.read_csv('../data/DroughtIndices.csv')"
   ]
  },
  {
   "cell_type": "code",
   "execution_count": 10,
   "metadata": {},
   "outputs": [],
   "source": [
    "# Choose Drought Index Time Series\n",
    "title = 'spei_g3'\n",
    "y = df[title]\n",
    "t = np.arange(len(y))\n",
    "# Define Truncation Level\n",
    "trunc = -0.5"
   ]
  },
  {
   "cell_type": "code",
   "execution_count": 11,
   "metadata": {},
   "outputs": [],
   "source": [
    "def extract(base,update,itr):\n",
    "    duration = []\n",
    "    severity = []\n",
    "    starts = []\n",
    "    ends = []\n",
    "    on = False\n",
    "    for j in range(base*12 + update*12*itr):\n",
    "        if (not on) and (y[j] >= trunc) and (y[j+1] < trunc):\n",
    "            on = True\n",
    "            start_time = t[j] + (t[j+1]-t[j]) / (y[j+1]-y[j]) * (trunc - y[j])\n",
    "            start_index = j+1\n",
    "            starts.append(j+1)\n",
    "        elif (on) & (y[j] < trunc) and (y[j+1] >= trunc):\n",
    "            on = False\n",
    "            end_time = t[j] + (t[j+1]-t[j]) / (y[j+1]-y[j]) * (trunc - y[j])\n",
    "            end_index = j+1\n",
    "            ends.append(j+1)\n",
    "            drought_time = np.insert(np.array(np.double(t[start_index:end_index])),0,start_time)\n",
    "            drought_time = np.insert(drought_time,len(drought_time),end_time)\n",
    "            drought_intensity = np.insert(np.array(y[start_index:end_index]),0,trunc)\n",
    "            drought_intensity = np.insert(drought_intensity,len(drought_intensity),trunc)\n",
    "            duration.append(end_time - start_time)\n",
    "            severity.append(simps(trunc - drought_intensity,drought_time))\n",
    "    df = pd.DataFrame({'duration': duration,'severity': severity})\n",
    "    print(df.shape)\n",
    "    df.to_csv('../data/b{}u{}_{}.csv'.format(base,update,itr),index=False)\n",
    "    \n",
    "    duration = []\n",
    "    severity = []\n",
    "    starts = []\n",
    "    ends = []\n",
    "    on = False\n",
    "    for j in range(base*12 + update*12*itr,base*12 + update*12*(itr+1)):\n",
    "        if (not on) and (y[j] >= trunc) and (y[j+1] < trunc):\n",
    "            on = True\n",
    "            start_time = t[j] + (t[j+1]-t[j]) / (y[j+1]-y[j]) * (trunc - y[j])\n",
    "            start_index = j+1\n",
    "            starts.append(j+1)\n",
    "        elif (on) & (y[j] < trunc) and (y[j+1] >= trunc):\n",
    "            on = False\n",
    "            end_time = t[j] + (t[j+1]-t[j]) / (y[j+1]-y[j]) * (trunc - y[j])\n",
    "            end_index = j+1\n",
    "            ends.append(j+1)\n",
    "            drought_time = np.insert(np.array(np.double(t[start_index:end_index])),0,start_time)\n",
    "            drought_time = np.insert(drought_time,len(drought_time),end_time)\n",
    "            drought_intensity = np.insert(np.array(y[start_index:end_index]),0,trunc)\n",
    "            drought_intensity = np.insert(drought_intensity,len(drought_intensity),trunc)\n",
    "            duration.append(end_time - start_time)\n",
    "            severity.append(simps(trunc - drought_intensity,drought_time))\n",
    "    df = pd.DataFrame({'duration': duration,'severity': severity})\n",
    "    df.to_csv('../data/b{}u{}_{}_test.csv'.format(base,update,itr),index=False)\n",
    "    return None"
   ]
  },
  {
   "cell_type": "code",
   "execution_count": 16,
   "metadata": {},
   "outputs": [
    {
     "name": "stdout",
     "output_type": "stream",
     "text": [
      "(28, 2)\n",
      "(38, 2)\n",
      "(53, 2)\n",
      "(65, 2)\n",
      "(78, 2)\n",
      "(88, 2)\n",
      "(95, 2)\n",
      "(106, 2)\n",
      "(116, 2)\n",
      "(129, 2)\n"
     ]
    }
   ],
   "source": [
    "base = 20 #years\n",
    "update = 10 #years\n",
    "for itr in range((120-base)//update):\n",
    "    extract(base,update,itr)"
   ]
  },
  {
   "cell_type": "markdown",
   "metadata": {},
   "source": [
    "# V2 with intensity"
   ]
  },
  {
   "cell_type": "code",
   "execution_count": 14,
   "metadata": {},
   "outputs": [],
   "source": [
    "def extract(base,update,itr):\n",
    "    duration = []\n",
    "    severity = []\n",
    "    intensity = []\n",
    "    starts = []\n",
    "    ends = []\n",
    "    on = False\n",
    "    for j in range(base*12 + update*12*itr):\n",
    "        if (not on) and (y[j] >= trunc) and (y[j+1] < trunc):\n",
    "            on = True\n",
    "            start_time = t[j] + (t[j+1]-t[j]) / (y[j+1]-y[j]) * (trunc - y[j])\n",
    "            start_index = j+1\n",
    "            starts.append(j+1)\n",
    "        elif (on) & (y[j] < trunc) and (y[j+1] >= trunc):\n",
    "            on = False\n",
    "            end_time = t[j] + (t[j+1]-t[j]) / (y[j+1]-y[j]) * (trunc - y[j])\n",
    "            end_index = j+1\n",
    "            ends.append(j+1)\n",
    "            drought_time = np.insert(np.array(np.double(t[start_index:end_index])),0,start_time)\n",
    "            drought_time = np.insert(drought_time,len(drought_time),end_time)\n",
    "            drought_intensity = np.insert(np.array(y[start_index:end_index]),0,trunc)\n",
    "            drought_intensity = np.insert(drought_intensity,len(drought_intensity),trunc)\n",
    "            duration.append(end_time - start_time)\n",
    "            severity.append(simps(trunc - drought_intensity,drought_time))\n",
    "            intensity.append(severity[-1]/duration[-1])\n",
    "    df = pd.DataFrame({'duration': duration,'severity': severity,'intensity': intensity})\n",
    "    print(df.shape)\n",
    "    df.to_csv('../data/b{}u{}_{}_V2.csv'.format(base,update,itr),index=False)\n",
    "    \n",
    "    duration = []\n",
    "    severity = []\n",
    "    intensity = []\n",
    "    starts = []\n",
    "    ends = []\n",
    "    on = False\n",
    "    for j in range(base*12 + update*12*itr,base*12 + update*12*(itr+1)):\n",
    "        if (not on) and (y[j] >= trunc) and (y[j+1] < trunc):\n",
    "            on = True\n",
    "            start_time = t[j] + (t[j+1]-t[j]) / (y[j+1]-y[j]) * (trunc - y[j])\n",
    "            start_index = j+1\n",
    "            starts.append(j+1)\n",
    "        elif (on) & (y[j] < trunc) and (y[j+1] >= trunc):\n",
    "            on = False\n",
    "            end_time = t[j] + (t[j+1]-t[j]) / (y[j+1]-y[j]) * (trunc - y[j])\n",
    "            end_index = j+1\n",
    "            ends.append(j+1)\n",
    "            drought_time = np.insert(np.array(np.double(t[start_index:end_index])),0,start_time)\n",
    "            drought_time = np.insert(drought_time,len(drought_time),end_time)\n",
    "            drought_intensity = np.insert(np.array(y[start_index:end_index]),0,trunc)\n",
    "            drought_intensity = np.insert(drought_intensity,len(drought_intensity),trunc)\n",
    "            duration.append(end_time - start_time)\n",
    "            severity.append(simps(trunc - drought_intensity,drought_time))\n",
    "            intensity.append(severity[-1]/duration[-1])\n",
    "    df = pd.DataFrame({'duration': duration,'severity': severity,'intensity': intensity})\n",
    "    df.to_csv('../data/b{}u{}_{}_test_V2.csv'.format(base,update,itr),index=False)\n",
    "    return None"
   ]
  },
  {
   "cell_type": "code",
   "execution_count": 15,
   "metadata": {},
   "outputs": [
    {
     "name": "stdout",
     "output_type": "stream",
     "text": [
      "(28, 3)\n",
      "(38, 3)\n",
      "(53, 3)\n",
      "(65, 3)\n",
      "(78, 3)\n",
      "(88, 3)\n",
      "(95, 3)\n",
      "(106, 3)\n",
      "(116, 3)\n",
      "(129, 3)\n"
     ]
    }
   ],
   "source": [
    "base = 20 #years\n",
    "update = 10 #years\n",
    "for itr in range((120-base)//update):\n",
    "    extract(base,update,itr)"
   ]
  }
 ],
 "metadata": {
  "kernelspec": {
   "display_name": "Python 3",
   "language": "python",
   "name": "python3"
  },
  "language_info": {
   "codemirror_mode": {
    "name": "ipython",
    "version": 3
   },
   "file_extension": ".py",
   "mimetype": "text/x-python",
   "name": "python",
   "nbconvert_exporter": "python",
   "pygments_lexer": "ipython3",
   "version": "3.7.7"
  }
 },
 "nbformat": 4,
 "nbformat_minor": 4
}
