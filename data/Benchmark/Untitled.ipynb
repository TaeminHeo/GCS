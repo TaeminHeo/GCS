{
 "cells": [
  {
   "cell_type": "code",
   "execution_count": 1,
   "id": "62c02d32-dad0-440c-88b6-ee4034b610f1",
   "metadata": {},
   "outputs": [],
   "source": [
    "import pandas as pd\n",
    "import numpy as np\n",
    "from scipy import stats as st\n",
    "import matplotlib.pyplot as plt\n",
    "import matlab.engine\n",
    "eng = matlab.engine.start_matlab()\n",
    "\n",
    "#greedy copula segmentation\n",
    "def GCS(x,copula_family,lbd):\n",
    "    K = 1\n",
    "    seg = []\n",
    "    seg.append(x)\n",
    "    while K > 0:\n",
    "        print(K)\n",
    "        LL_all = np.zeros((K,len(x)))\n",
    "        for j in range(K):\n",
    "            n = len(seg[j])\n",
    "            LL_segorig = LL(seg[j],copula_family,lbd)\n",
    "            for k in range(2,n-3):\n",
    "                print(k,end='\\r')\n",
    "                LL_all[j,k] = LL(seg[j][:k,:],copula_family,lbd) + LL(seg[j][k:,:],copula_family,lbd) - LL_segorig\n",
    "            if K == 1:\n",
    "                LL_all_1 = LL_all\n",
    "            elif K == 2:\n",
    "                LL_all_2 = LL_all\n",
    "\n",
    "        if np.max(LL_all) > 0:\n",
    "            j_star, k_star = np.where(LL_all == np.max(LL_all))\n",
    "            if j_star.item() == (K-1):\n",
    "                seg.append(seg[K-1][k_star.item()+1:,:])\n",
    "                seg[K-1] = seg[K-1][:k_star.item()+1,:]\n",
    "                K = K + 1\n",
    "            else:\n",
    "                K = -1\n",
    "        else:\n",
    "            K = -1\n",
    "    return seg, LL_all_1, LL_all_2\n",
    "\n",
    "def LL(x,copula_family,lbd):\n",
    "    #marginal distribution fitting\n",
    "    pd1 = st.gamma.fit(x[:,0])\n",
    "    dist1 = st.gamma(a=pd1[0],loc=pd1[1],scale=pd1[2])\n",
    "    cdf1 = dist1.cdf(x[:,0])\n",
    "    var1 = np.var(x[:,0])\n",
    "\n",
    "    pd2 = st.lognorm.fit(x[:,1])\n",
    "    dist2 = st.lognorm(s=pd2[0],loc=pd2[1],scale=pd2[2])\n",
    "    cdf2 = dist2.cdf(x[:,1])\n",
    "    var2 = np.var(x[:,1])\n",
    "\n",
    "    #copula fitting\n",
    "    cdfs = eng.transpose(matlab.double([cdf1,cdf2]))\n",
    "    copula_paramhat = eng.copulafit(copula_family, cdfs)\n",
    "\n",
    "    #loglikelihood\n",
    "    loglikelihood = eng.sum(eng.log(eng.copulapdf(copula_family,cdfs,copula_paramhat))) - lbd / (var1 + var2)\n",
    "\n",
    "    return loglikelihood"
   ]
  },
  {
   "cell_type": "code",
   "execution_count": 2,
   "id": "b557ce5b-3051-4574-a352-b7824f74d1ee",
   "metadata": {},
   "outputs": [],
   "source": [
    "df = pd.read_table('../../data/Benchmark/toyproblem.csv', sep = ',')\n",
    "x = np.array(df)\n",
    "copula_family = 'Clayton'\n",
    "lbd = 100"
   ]
  },
  {
   "cell_type": "code",
   "execution_count": 4,
   "id": "29fa33bf-0502-4a98-b6e9-128fe8bbf693",
   "metadata": {},
   "outputs": [],
   "source": [
    "K = 1\n",
    "seg = []\n",
    "seg.append(x)\n",
    "LL_all = np.zeros((K,len(x)))\n",
    "j = 0\n",
    "n = len(seg[j])\n",
    "LL_segorig = LL(seg[j],copula_family,lbd)"
   ]
  },
  {
   "cell_type": "code",
   "execution_count": 12,
   "id": "e8bafe76-1e68-45c5-9334-3b5442aee9e6",
   "metadata": {},
   "outputs": [
    {
     "name": "stdout",
     "output_type": "stream",
     "text": [
      "CPU times: total: 3min 51s\n",
      "Wall time: 4min 8s\n"
     ]
    }
   ],
   "source": [
    "%%time\n",
    "for k in range(2,n-3):\n",
    "    LL_all[j,k] = LL(seg[j][:k,:],copula_family,lbd) + LL(seg[j][k:,:],copula_family,lbd) - LL_segorig"
   ]
  },
  {
   "cell_type": "code",
   "execution_count": 18,
   "id": "3e5c1839-aa1a-41a7-8e1c-901ea0684922",
   "metadata": {},
   "outputs": [
    {
     "name": "stdout",
     "output_type": "stream",
     "text": [
      "CPU times: total: 3min 53s\n",
      "Wall time: 4min 10s\n"
     ]
    }
   ],
   "source": [
    "%%time\n",
    "result_pre = [test(seg[j],k,True,copula_family,lbd) for k in range(2,n-3)]\n",
    "result_post = [test(seg[j],k,False,copula_family,lbd) for k in range(2,n-3)]\n",
    "results = np.array(result_pre) - np.array(result_post) - LL_segorig"
   ]
  },
  {
   "cell_type": "code",
   "execution_count": 15,
   "id": "a7092fb4-6511-48b1-9e1d-7206312cb754",
   "metadata": {},
   "outputs": [
    {
     "name": "stdout",
     "output_type": "stream",
     "text": [
      "CPU times: total: 3min 53s\n",
      "Wall time: 4min 9s\n"
     ]
    }
   ],
   "source": [
    "%%time\n",
    "results = [test(seg[j],k,True,copula_family,lbd) + test(seg[j],k,False,copula_family,lbd) - LL_segorig for k in range(2,n-3)]"
   ]
  },
  {
   "cell_type": "code",
   "execution_count": 7,
   "id": "72f777a5-2aa3-4ff3-918e-4652488aa597",
   "metadata": {},
   "outputs": [],
   "source": [
    "def test(seg,k,pre,copula_family,lbd):\n",
    "    if pre == True:\n",
    "        x = seg[:k]\n",
    "    else:\n",
    "        x = seg[k:]\n",
    "        \n",
    "    #marginal distribution fitting\n",
    "    pd1 = st.gamma.fit(x[:,0])\n",
    "    dist1 = st.gamma(a=pd1[0],loc=pd1[1],scale=pd1[2])\n",
    "    cdf1 = dist1.cdf(x[:,0])\n",
    "    var1 = np.var(x[:,0])\n",
    "\n",
    "    pd2 = st.lognorm.fit(x[:,1])\n",
    "    dist2 = st.lognorm(s=pd2[0],loc=pd2[1],scale=pd2[2])\n",
    "    cdf2 = dist2.cdf(x[:,1])\n",
    "    var2 = np.var(x[:,1])\n",
    "\n",
    "    #copula fitting\n",
    "    cdfs = eng.transpose(matlab.double([cdf1,cdf2]))\n",
    "    copula_paramhat = eng.copulafit(copula_family, cdfs)\n",
    "\n",
    "    #loglikelihood\n",
    "    loglikelihood = eng.sum(eng.log(eng.copulapdf(copula_family,cdfs,copula_paramhat))) - lbd / (var1 + var2)\n",
    "\n",
    "    return loglikelihood"
   ]
  },
  {
   "cell_type": "code",
   "execution_count": null,
   "id": "297726a2-259f-453a-b212-fed030946eae",
   "metadata": {},
   "outputs": [],
   "source": []
  }
 ],
 "metadata": {
  "kernelspec": {
   "display_name": "Python 3 (ipykernel)",
   "language": "python",
   "name": "python3"
  },
  "language_info": {
   "codemirror_mode": {
    "name": "ipython",
    "version": 3
   },
   "file_extension": ".py",
   "mimetype": "text/x-python",
   "name": "python",
   "nbconvert_exporter": "python",
   "pygments_lexer": "ipython3",
   "version": "3.10.0"
  }
 },
 "nbformat": 4,
 "nbformat_minor": 5
}
